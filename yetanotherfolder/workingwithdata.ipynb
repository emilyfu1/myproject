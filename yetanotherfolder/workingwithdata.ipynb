{
 "cells": [
  {
   "cell_type": "code",
   "execution_count": 1,
   "metadata": {},
   "outputs": [],
   "source": [
    "import pandas as pd\n",
    "import numpy as np\n",
    "import os\n",
    "from dotenv import dotenv_values, find_dotenv"
   ]
  },
  {
   "cell_type": "code",
   "execution_count": 11,
   "metadata": {},
   "outputs": [],
   "source": [
    "# this looks for your configuration file and then reads it as a dictionary\n",
    "config = dotenv_values(find_dotenv())"
   ]
  },
  {
   "cell_type": "code",
   "execution_count": 12,
   "metadata": {},
   "outputs": [],
   "source": [
    "# set path using the dictionary key for which one you want\n",
    "correlationpath = os.path.abspath(config[\"CORRELATIONDATA\"]) + '\\\\'\n",
    "cleandatapath = os.path.abspath(config[\"CLEANDATA\"]) + '\\\\'"
   ]
  },
  {
   "cell_type": "code",
   "execution_count": 14,
   "metadata": {},
   "outputs": [],
   "source": [
    "# import the correlation data\n",
    "gdpcorr = pd.read_excel(open(correlationpath+'correlation_data.xlsx','rb'),sheet_name='gdp_first_diff_corr')\n",
    "conscorr = pd.read_excel(open(correlationpath+'correlation_data.xlsx','rb'),sheet_name='c_first_diff_corr')\n",
    "\n",
    "# reset index in order to reshape\n",
    "gdpcorr = gdpcorr.set_index(gdpcorr.columns[0])\n",
    "gdpcorr.index.name = None\n",
    "conscorr = conscorr.set_index(conscorr.columns[0])\n",
    "conscorr.index.name = None\n",
    "\n",
    "# reshape\n",
    "gdp_reshape = gdpcorr.stack().reset_index()\n",
    "cons_reshape = conscorr.stack().reset_index()\n",
    "\n",
    "# rename the columns\n",
    "gdp_reshape.columns = ['iso3_firstcountry', 'iso3_secondcountry', 'gdp_corr']\n",
    "cons_reshape.columns = ['iso3_firstcountry', 'iso3_secondcountry', 'cons_corr']\n",
    "\n",
    "allcorrelationdata = pd.merge(left=gdp_reshape, right=cons_reshape, how='inner', on=['iso3_firstcountry', 'iso3_secondcountry'])\n",
    "\n",
    "# create mask that will remove duplicates\n",
    "mask_duplicates = (allcorrelationdata[['iso3_firstcountry', 'iso3_secondcountry']].apply(frozenset, axis=1).duplicated()) | (allcorrelationdata['iso3_firstcountry']==allcorrelationdata['iso3_secondcountry'])\n",
    "allcorrelationdata = allcorrelationdata[~mask_duplicates]\n",
    "\n",
    "# countries that were included when we calculated the correlations: \n",
    "allcorrelationcountries = list(gdpcorr.index.unique())"
   ]
  },
  {
   "cell_type": "code",
   "execution_count": 16,
   "metadata": {},
   "outputs": [],
   "source": [
    "# import the shares data (original version)\n",
    "shares_original = pd.read_pickle(cleandatapath+'FullData_OriginalData_plusExports.pkl')[['iso3', 'year', 'Import USD', 'Import EUR', 'Export USD', 'Export EUR']]\n",
    "\n",
    "# import the shares data (alternative version)\n",
    "shares_alt = pd.read_pickle(cleandatapath+'FullData_OurData_NScode_TSimportShares_Taiwan.pkl')[['iso3', 'year', 'Import USD', 'Import EUR', 'Export USD', 'Export EUR']]\n",
    "\n",
    "# import the shares data (edited version of original)\n",
    "shares_altoriginal = pd.read_pickle(cleandatapath+'FullData_OurData_NScode_CorrectedOriginalVersion.pkl')[['iso3', 'year', 'Import USD', 'Import EUR', 'Export USD', 'Export EUR']]\n",
    "\n",
    "# countries with enough invoicing data (can use any version, will have the same countries)\n",
    "allsharescountries = list(shares_original.dropna()['iso3'].unique())\n",
    "\n",
    "# organize data\n",
    "dataversions = [shares_original, shares_alt, shares_altoriginal]\n",
    "dataversions_names = ['original', 'alt', 'altoriginal']\n",
    "sharesdata_dict = dict.fromkeys(dataversions_names)\n",
    "\n",
    "for i, version in enumerate(dataversions):\n",
    "    # taking the same year range as the correlation data and only using one obs per year since it is annual data\n",
    "    # only consider countries that we calculated correlation coefficients for\n",
    "    version = version[(version['iso3'].isin(allcorrelationcountries)) & ((version['year'] >= 1990) & (version['year'] <= 2021))].groupby(['iso3', 'year']).first().reset_index()\n",
    "    # getting the averages\n",
    "    version = version[['iso3', 'Import USD', 'Import EUR', 'Export USD', 'Export EUR']].groupby(['iso3'], as_index=False).mean()\n",
    "    # some countries just don't have data for both shares (canada, mexico, philippines, and south africa)\n",
    "    # this line drops these countries\n",
    "    version = version.dropna()\n",
    "    version.name = dataversions_names[i]\n",
    "    \n",
    "    sharesdata_dict[version.name] = version"
   ]
  },
  {
   "cell_type": "code",
   "execution_count": 17,
   "metadata": {},
   "outputs": [],
   "source": [
    "# import consumption, centrality and nominal gdp shares\n",
    "cons_ngdp_cent = pd.read_pickle(cleandatapath+'cons_ngdp_cent_for_regression.pkl')\n",
    "\n",
    "worldcons = cons_ngdp_cent[['year', 'iso3', 'worldtotcons', 'totcons']]\n",
    "cent = cons_ngdp_cent[['year', 'iso3', 'cent_exp']]\n",
    "ngdpshares = cons_ngdp_cent[['year', 'iso3', 'gdpshare']]\n",
    "\n",
    "# list of countries with consumption data\n",
    "allconsumptioncountries = list(worldcons.dropna()['iso3'].unique())\n",
    "\n",
    "# list of countries with centrality data\n",
    "allcentcountries = list(cent.dropna()['iso3'].unique())\n",
    "\n",
    "# list of countries with gdp share data\n",
    "allngdpcountries = list(ngdpshares.dropna()['iso3'].unique())\n",
    "\n",
    "# taking the same year range as the correlation data\n",
    "# only consider countries that we calculated correlation coefficients for\n",
    "worldcons = worldcons[(worldcons['iso3'].isin(allcorrelationcountries)) & ((worldcons['year'] >= 1990) & (worldcons['year'] <= 2021))]\n",
    "cent = cent[(cent['iso3'].isin(allcorrelationcountries)) & ((cent['year'] >= 1990) & (cent['year'] <= 2021))]\n",
    "ngdpshares = ngdpshares[(ngdpshares['iso3'].isin(allcorrelationcountries)) & ((ngdpshares['year'] >= 1990) & (ngdpshares['year'] <= 2021))]"
   ]
  },
  {
   "cell_type": "code",
   "execution_count": 18,
   "metadata": {},
   "outputs": [],
   "source": [
    "# countries that have data for correlations, correlations with world consumption, nominal GDP shares, and invoice shares\n",
    "countriestoinclude = list(set(allcorrelationcountries) & set(allsharescountries) & set(allconsumptioncountries) & set(allngdpcountries))"
   ]
  },
  {
   "cell_type": "code",
   "execution_count": 35,
   "metadata": {},
   "outputs": [],
   "source": [
    "# create a class\n",
    "class My_Class:\n",
    "    def __init__(self, ydata, productsdata, othercovariates, countries):\n",
    "        self.countries = countries\n",
    "        # select which shares will be used to calculate the products\n",
    "        self.productsdata = productsdata\n",
    "        # select gdp correlations vs consumption correlations\n",
    "        self.ydata = ydata\n",
    "        # select whatever else you need\n",
    "        self.othercovariates = othercovariates\n",
    "\n",
    "    def tell_me_about_data(self):\n",
    "        print(\"The dependent variable will be calculated from: \", list(self.ydata.columns))\n",
    "        print(\"The products will be calculated from: \", list(self.productsdata.columns))\n",
    "        print(\"The added covariate will be calculated from: \", list(self.othercovariates.columns))\n",
    "        print(\"The included countries are: \", self.countries)\n",
    "\n"
   ]
  },
  {
   "cell_type": "code",
   "execution_count": null,
   "metadata": {},
   "outputs": [],
   "source": [
    "# class My_Class:\n",
    "#     def __init__(self, correlationdata, sharesdata, covariates, countries, detrendingversion, sharesversion, regressiontype):\n",
    "#"
   ]
  },
  {
   "cell_type": "code",
   "execution_count": 37,
   "metadata": {},
   "outputs": [
    {
     "name": "stdout",
     "output_type": "stream",
     "text": [
      "The dependent variable will be calculated from:  ['cons_corr']\n",
      "The products will be calculated from:  ['Import USD', 'Import EUR']\n",
      "The added covariate will be calculated from:  ['cent_exp']\n",
      "The included countries are:  ['BEL', 'CZE', 'CHL', 'HUN', 'KOR', 'IDN', 'FIN', 'DNK', 'GBR', 'SWE', 'TUR', 'NOR', 'USA', 'DEU', 'IRL', 'TWN', 'LUX', 'IND', 'NLD', 'FRA', 'JPN', 'POL', 'ESP', 'ITA', 'AUS', 'BRA', 'AUT', 'CHE', 'ISL', 'THA', 'GRC', 'PRT']\n"
     ]
    }
   ],
   "source": [
    "# create an object with attributes defined as: consumption correlation\n",
    "myobject = My_Class(allcorrelationdata[['cons_corr']], sharesdata_dict['alt'][['Import USD', 'Import EUR']], cent[['cent_exp']], countries=countriestoinclude)\n",
    "\n",
    "myobject.tell_me_about_data()"
   ]
  }
 ],
 "metadata": {
  "kernelspec": {
   "display_name": "base",
   "language": "python",
   "name": "python3"
  },
  "language_info": {
   "codemirror_mode": {
    "name": "ipython",
    "version": 3
   },
   "file_extension": ".py",
   "mimetype": "text/x-python",
   "name": "python",
   "nbconvert_exporter": "python",
   "pygments_lexer": "ipython3",
   "version": "3.11.3"
  },
  "orig_nbformat": 4
 },
 "nbformat": 4,
 "nbformat_minor": 2
}
