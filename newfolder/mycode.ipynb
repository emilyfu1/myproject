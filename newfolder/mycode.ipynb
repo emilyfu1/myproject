{
 "cells": [
  {
   "cell_type": "code",
   "execution_count": 1,
   "id": "32e7f8cb",
   "metadata": {},
   "outputs": [
    {
     "name": "stdout",
     "output_type": "stream",
     "text": [
      "whatever\n"
     ]
    }
   ],
   "source": [
    "# some code\n",
    "print('whatever')"
   ]
  },
  {
   "cell_type": "code",
   "execution_count": 2,
   "id": "1e5e825f",
   "metadata": {},
   "outputs": [
    {
     "name": "stdout",
     "output_type": "stream",
     "text": [
      "something\n"
     ]
    }
   ],
   "source": [
    "# add a new cell\n",
    "print('something')"
   ]
  },
  {
   "cell_type": "code",
   "execution_count": 8,
   "id": "d90f7465",
   "metadata": {},
   "outputs": [],
   "source": [
    "# some other code\n",
    "def is_even(n):\n",
    "    remainder = n % 2\n",
    "    divisible = remainder == 0\n",
    "    return divisible"
   ]
  },
  {
   "cell_type": "code",
   "execution_count": 9,
   "id": "061aeb69",
   "metadata": {},
   "outputs": [
    {
     "data": {
      "text/plain": [
       "False"
      ]
     },
     "execution_count": 9,
     "metadata": {},
     "output_type": "execute_result"
    }
   ],
   "source": [
    "is_even(5)"
   ]
  }
 ],
 "metadata": {
  "kernelspec": {
   "display_name": "Python 3 (ipykernel)",
   "language": "python",
   "name": "python3"
  },
  "language_info": {
   "codemirror_mode": {
    "name": "ipython",
    "version": 3
   },
   "file_extension": ".py",
   "mimetype": "text/x-python",
   "name": "python",
   "nbconvert_exporter": "python",
   "pygments_lexer": "ipython3",
   "version": "3.9.12"
  }
 },
 "nbformat": 4,
 "nbformat_minor": 5
}
